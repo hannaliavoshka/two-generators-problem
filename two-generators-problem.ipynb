{
 "cells": [
  {
   "cell_type": "code",
   "execution_count": 1,
   "metadata": {},
   "outputs": [],
   "source": [
    "import random\n",
    "import math\n",
    "import numpy as np\n",
    "import pandas as pd\n",
    "from sklearn.model_selection import train_test_split\n",
    "from sklearn.neighbors import KNeighborsClassifier\n",
    "from sklearn.metrics import accuracy_score"
   ]
  },
  {
   "cell_type": "code",
   "execution_count": 2,
   "metadata": {},
   "outputs": [],
   "source": [
    "import time\n",
    "start_time = time.perf_counter()"
   ]
  },
  {
   "cell_type": "code",
   "execution_count": 3,
   "metadata": {},
   "outputs": [],
   "source": [
    "# TWO GENERATORS\n",
    "\n",
    "def generate1():  \n",
    "    a = random.uniform(0, 1)  \n",
    "    b = random.uniform(0, 1)  \n",
    "    return (a * math.cos(2 * math.pi * b), a * math.sin(2 * math.pi * b))\n",
    "\n",
    "def generate2():  \n",
    "    while True:  \n",
    "        x = random.uniform(-1, 1)  \n",
    "        y = random.uniform(-1, 1)  \n",
    "        if x ** 2 + y ** 2 > 1:  \n",
    "            continue  \n",
    "        return (x, y)"
   ]
  },
  {
   "cell_type": "code",
   "execution_count": 4,
   "metadata": {},
   "outputs": [],
   "source": [
    "# FULL DATA = TEST DATA\n",
    "\n",
    "full_data = np.zeros((30, 2001), dtype=np. floating)\n",
    "\n",
    "for i in range(15):\n",
    "    for j in range(0,1999,2):\n",
    "        full_data[i,j], full_data[i, j+1] = generate1()\n",
    "        \n",
    "for i in range(15,30):\n",
    "    for j in range(0,1999,2):\n",
    "        full_data[i,j], full_data[i, j+1] = generate2() \n",
    "        \n",
    "full_data[0:15,2000] = 1\n",
    "full_data[15:,2000] = 2\n",
    "\n",
    "np.random.shuffle(full_data)"
   ]
  },
  {
   "cell_type": "code",
   "execution_count": 5,
   "metadata": {},
   "outputs": [],
   "source": [
    "# SHORT SERIES DATA = TRAIN DATA\n",
    "\n",
    "short_data = np.zeros((100000,3))\n",
    "for i in range(50000):\n",
    "    short_data[i,0],short_data[i,1] = generate1()\n",
    "    short_data[i,2] = 1\n",
    "    \n",
    "for i in range(50000,100000):\n",
    "    short_data[i,0],short_data[i,1] = generate2()\n",
    "    short_data[i,2] = 2\n",
    "    \n",
    "np.random.shuffle(short_data)"
   ]
  },
  {
   "cell_type": "code",
   "execution_count": 6,
   "metadata": {},
   "outputs": [],
   "source": [
    "# TRAIN SET\n",
    "\n",
    "df = pd.DataFrame(short_data) \n",
    "X = df.iloc[:,:-1].values \n",
    "Y = df.iloc[:,-1:].values \n",
    "      \n",
    "X_train, X_test, Y_train, Y_test = train_test_split( \n",
    "X, Y, test_size = 1/3, random_state = 0 ) \n",
    "Y_train = np.ravel(Y_train)"
   ]
  },
  {
   "cell_type": "code",
   "execution_count": 7,
   "metadata": {},
   "outputs": [
    {
     "name": "stdout",
     "output_type": "stream",
     "text": [
      "Training accuracy:  0.5797084058318833\n"
     ]
    }
   ],
   "source": [
    "# KNN MODEL TRAINING\n",
    "\n",
    "model_knn = KNeighborsClassifier(n_neighbors=7, weights='uniform', algorithm='auto', leaf_size=30, \n",
    "                                 p=2, metric='minkowski', metric_params=None, n_jobs=None)\n",
    "model_knn.fit(X_train, Y_train)\n",
    "Y_pred_knn = model_knn.predict(X_test)\n",
    "print('Training accuracy: ', accuracy_score(Y_test, Y_pred_knn))"
   ]
  },
  {
   "cell_type": "code",
   "execution_count": 8,
   "metadata": {},
   "outputs": [
    {
     "name": "stdout",
     "output_type": "stream",
     "text": [
      "Validating accuracy:  1.0\n"
     ]
    }
   ],
   "source": [
    "# MODEL VALIDATING\n",
    "\n",
    "X_val, Y_val = full_data[:,:-1], full_data[:,-1]\n",
    "Y_pred_hint = []\n",
    "for i in range(X_val.shape[0]):\n",
    "    predict_line = []\n",
    "    for j in range(0,700,2):\n",
    "        predict_line.append(model_knn.predict(np.array([X_val[i,j],X_val[i,j+1]]).reshape(1, -1)))\n",
    "    Y_pred_hint.append(round(np.mean(predict_line)))\n",
    "    \n",
    "print('Validating accuracy: ', accuracy_score(Y_val,Y_pred_hint))"
   ]
  },
  {
   "cell_type": "code",
   "execution_count": 9,
   "metadata": {},
   "outputs": [
    {
     "name": "stdout",
     "output_type": "stream",
     "text": [
      "--- 5.5278148 seconds ---\n"
     ]
    }
   ],
   "source": [
    "print(\"--- %s seconds ---\" % (time.perf_counter() - start_time))"
   ]
  }
 ],
 "metadata": {
  "kernelspec": {
   "display_name": "Python 3",
   "language": "python",
   "name": "python3"
  },
  "language_info": {
   "codemirror_mode": {
    "name": "ipython",
    "version": 3
   },
   "file_extension": ".py",
   "mimetype": "text/x-python",
   "name": "python",
   "nbconvert_exporter": "python",
   "pygments_lexer": "ipython3",
   "version": "3.7.6"
  }
 },
 "nbformat": 4,
 "nbformat_minor": 4
}
